{
 "cells": [
  {
   "metadata": {},
   "cell_type": "raw",
   "source": "",
   "id": "bd2223ee3f68ec17"
  }
 ],
 "metadata": {},
 "nbformat": 4,
 "nbformat_minor": 5
}
